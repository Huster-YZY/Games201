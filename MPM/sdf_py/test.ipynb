{
 "cells": [
  {
   "cell_type": "code",
   "execution_count": 2,
   "metadata": {},
   "outputs": [],
   "source": [
    "import mesh2sdf\n",
    "import trimesh\n",
    "\n",
    "filename = '../model/dragon.obj'\n",
    "mesh = trimesh.load(filename, force='mesh')"
   ]
  },
  {
   "cell_type": "code",
   "execution_count": 3,
   "metadata": {},
   "outputs": [
    {
     "data": {
      "text/plain": [
       "False"
      ]
     },
     "execution_count": 3,
     "metadata": {},
     "output_type": "execute_result"
    }
   ],
   "source": [
    "mesh.is_watertight"
   ]
  },
  {
   "cell_type": "code",
   "execution_count": 4,
   "metadata": {},
   "outputs": [],
   "source": [
    "mesh_scale = 0.8\n",
    "size = 128#sdf's shape is (size,size,size)\n",
    "level = 2 / size"
   ]
  },
  {
   "cell_type": "code",
   "execution_count": 5,
   "metadata": {},
   "outputs": [
    {
     "name": "stdout",
     "output_type": "stream",
     "text": [
      "1.2517269999999998\n"
     ]
    }
   ],
   "source": [
    "vertices=mesh.vertices\n",
    "bbmax=vertices.max(0)\n",
    "bbmin=vertices.min(0)\n",
    "center=(bbmin+bbmax)*0.5\n",
    "print((bbmax - bbmin).max())\n",
    "scale = 2.0 * mesh_scale / (bbmax - bbmin).max()\n",
    "vertices = (vertices - center) * scale"
   ]
  },
  {
   "cell_type": "code",
   "execution_count": 6,
   "metadata": {},
   "outputs": [],
   "source": [
    "# fix mesh\n",
    "import time\n",
    "t0 = time.time()\n",
    "sdf, mesh = mesh2sdf.compute(vertices, mesh.faces, size, fix=True, level=level, return_mesh=True)\n",
    "t1 = time.time()"
   ]
  },
  {
   "cell_type": "code",
   "execution_count": 7,
   "metadata": {},
   "outputs": [
    {
     "name": "stdout",
     "output_type": "stream",
     "text": [
      "It takes 16.1011 seconds to process ../model/dragon.obj\n"
     ]
    }
   ],
   "source": [
    "# output\n",
    "import numpy as np\n",
    "# mesh.vertices = mesh.vertices / scale + center\n",
    "# mesh.export(filename[:-4] + '.fixed.obj')\n",
    "# np.save(filename[:-4] + '.npy', sdf)\n",
    "print('It takes %.4f seconds to process %s' % (t1-t0, filename))"
   ]
  },
  {
   "cell_type": "markdown",
   "metadata": {},
   "source": [
    "### Visualize SDF"
   ]
  },
  {
   "cell_type": "code",
   "execution_count": 8,
   "metadata": {},
   "outputs": [],
   "source": [
    "import os\n",
    "import sys\n",
    "import matplotlib.pyplot as plt\n",
    "import numpy as np\n",
    "import skimage.measure"
   ]
  },
  {
   "cell_type": "code",
   "execution_count": 9,
   "metadata": {},
   "outputs": [
    {
     "name": "stdout",
     "output_type": "stream",
     "text": [
      "(128, 128, 128)\n",
      "1.270579 -0.18576771\n"
     ]
    }
   ],
   "source": [
    "# sdf = np.load('../model/bunny.npy')\n",
    "print(sdf.shape)\n",
    "size = sdf.shape[0]\n",
    "print(sdf.max(), sdf.min())"
   ]
  },
  {
   "cell_type": "code",
   "execution_count": null,
   "metadata": {},
   "outputs": [],
   "source": [
    "mesh_scale = 0.8\n",
    "levels = [-0.02, 0.0, 0.02]\n",
    "# extract level sets\n",
    "for i, level in enumerate(levels):\n",
    "  vtx, faces, _, _ = skimage.measure.marching_cubes(sdf, level)\n",
    "\n",
    "  vtx = vtx * (mesh_scale * 2.0 / size) - 1.0\n",
    "  mesh = trimesh.Trimesh(vtx, faces)\n",
    "  mesh.export(os.path.join('./', 'l%.2f.obj' % level))"
   ]
  },
  {
   "cell_type": "code",
   "execution_count": null,
   "metadata": {},
   "outputs": [],
   "source": [
    "# draw image\n",
    "for i in range(size):\n",
    "  array_2d = sdf[:, :, i]\n",
    "\n",
    "  num_levels = 6\n",
    "  fig, ax = plt.subplots(figsize=(2.75, 2.75), dpi=300)\n",
    "  levels_pos = np.logspace(-2, 0, num=num_levels)  # logspace\n",
    "  levels_neg = -1. * levels_pos[::-1]\n",
    "  levels = np.concatenate((levels_neg, np.zeros((0)), levels_pos), axis=0)\n",
    "  colors = plt.get_cmap(\"Spectral\")(np.linspace(0., 1., num=num_levels*2+1))\n",
    "\n",
    "  sample = array_2d\n",
    "  # sample = np.flipud(array_2d)\n",
    "  CS = ax.contourf(sample, levels=levels, colors=colors)\n",
    "\n",
    "  ax.contour(sample, levels=levels, colors='k', linewidths=0.1)\n",
    "  ax.contour(sample, levels=[0], colors='k', linewidths=0.3)\n",
    "  ax.axis('off')\n",
    "\n",
    "  plt.savefig(os.path.join('./frames', '%03d.png' % i))"
   ]
  }
 ],
 "metadata": {
  "kernelspec": {
   "display_name": "pytorch_cpu",
   "language": "python",
   "name": "python3"
  },
  "language_info": {
   "codemirror_mode": {
    "name": "ipython",
    "version": 3
   },
   "file_extension": ".py",
   "mimetype": "text/x-python",
   "name": "python",
   "nbconvert_exporter": "python",
   "pygments_lexer": "ipython3",
   "version": "3.10.4"
  },
  "orig_nbformat": 4
 },
 "nbformat": 4,
 "nbformat_minor": 2
}

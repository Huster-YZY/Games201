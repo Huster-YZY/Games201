{
 "cells": [
  {
   "cell_type": "code",
   "execution_count": null,
   "metadata": {},
   "outputs": [],
   "source": [
    "import mesh2sdf\n",
    "import trimesh\n",
    "\n",
    "filename = '../model/bunny.obj'\n",
    "mesh = trimesh.load(filename, force='mesh')\n",
    "mesh.show()"
   ]
  },
  {
   "cell_type": "code",
   "execution_count": 27,
   "metadata": {},
   "outputs": [
    {
     "data": {
      "text/plain": [
       "False"
      ]
     },
     "execution_count": 27,
     "metadata": {},
     "output_type": "execute_result"
    }
   ],
   "source": [
    "mesh.is_watertight"
   ]
  },
  {
   "cell_type": "code",
   "execution_count": 28,
   "metadata": {},
   "outputs": [
    {
     "data": {
      "text/plain": [
       "TrackedArray([0.277368, 0.224826, 0.222761, ..., 0.272277, 0.227981,\n",
       "              0.255964])"
      ]
     },
     "execution_count": 28,
     "metadata": {},
     "output_type": "execute_result"
    }
   ],
   "source": [
    "mesh.vertices[:,0]+=0.3\n",
    "mesh.vertices[:,0]"
   ]
  },
  {
   "cell_type": "code",
   "execution_count": 29,
   "metadata": {},
   "outputs": [],
   "source": [
    "size = 128#sdf's shape is (size,size,size)\n",
    "level = 2 / size"
   ]
  },
  {
   "cell_type": "code",
   "execution_count": null,
   "metadata": {},
   "outputs": [],
   "source": [
    "mesh_scale = 0.8\n",
    "vertices=mesh.vertices\n",
    "bbmax=vertices.max(0)\n",
    "bbmin=vertices.min(0)\n",
    "center=(bbmin+bbmax)*0.5\n",
    "print((bbmax - bbmin).max())\n",
    "\n",
    "scale = 2.0 * mesh_scale / (bbmax - bbmin).max()\n",
    "\n",
    "mesh.vertices = (vertices - center) * scale\n",
    "mesh.show()"
   ]
  },
  {
   "cell_type": "code",
   "execution_count": 33,
   "metadata": {},
   "outputs": [],
   "source": [
    "# fix mesh\n",
    "import time\n",
    "vertices=mesh.vertices*0.5\n",
    "t0 = time.time()\n",
    "sdf, mesh = mesh2sdf.compute(vertices, mesh.faces, size, fix=True, level=level, return_mesh=True)\n",
    "t1 = time.time()"
   ]
  },
  {
   "cell_type": "code",
   "execution_count": null,
   "metadata": {},
   "outputs": [],
   "source": [
    "# output\n",
    "import numpy as np\n",
    "mesh.vertices = mesh.vertices / scale + center\n",
    "mesh.show()"
   ]
  },
  {
   "cell_type": "markdown",
   "metadata": {},
   "source": [
    "### Visualize SDF"
   ]
  },
  {
   "cell_type": "code",
   "execution_count": 36,
   "metadata": {},
   "outputs": [],
   "source": [
    "import os\n",
    "import sys\n",
    "import matplotlib.pyplot as plt\n",
    "import numpy as np\n",
    "import skimage.measure"
   ]
  },
  {
   "cell_type": "code",
   "execution_count": 37,
   "metadata": {},
   "outputs": [
    {
     "name": "stdout",
     "output_type": "stream",
     "text": [
      "(128, 128, 128)\n",
      "1.4496022 -0.03047628\n"
     ]
    }
   ],
   "source": [
    "# sdf = np.load('../model/bunny.npy')\n",
    "print(sdf.shape)\n",
    "size = sdf.shape[0]\n",
    "print(sdf.max(), sdf.min())"
   ]
  },
  {
   "cell_type": "code",
   "execution_count": 38,
   "metadata": {},
   "outputs": [],
   "source": [
    "# #Not necessary, used for debug.\n",
    "# mesh_scale = 0.8\n",
    "# levels = [-0.02, 0.0, 0.02]\n",
    "# # extract level sets\n",
    "# for i, level in enumerate(levels):\n",
    "vtx, faces, _, _ = skimage.measure.marching_cubes(sdf, 0.0)\n",
    "\n",
    "#   vtx = vtx * (mesh_scale * 2.0 / size) - 1.0\n",
    "#   mesh = trimesh.Trimesh(vtx, faces)\n",
    "#   mesh.export(os.path.join('./', 'l%.2f.obj' % level))"
   ]
  },
  {
   "cell_type": "code",
   "execution_count": 40,
   "metadata": {},
   "outputs": [
    {
     "data": {
      "text/plain": [
       "(17559, 3)"
      ]
     },
     "execution_count": 40,
     "metadata": {},
     "output_type": "execute_result"
    }
   ],
   "source": [
    "vtx.shape"
   ]
  },
  {
   "cell_type": "code",
   "execution_count": null,
   "metadata": {},
   "outputs": [],
   "source": [
    "mesh=trimesh.Trimesh(vtx,faces)\n",
    "mesh.show()"
   ]
  },
  {
   "cell_type": "code",
   "execution_count": null,
   "metadata": {},
   "outputs": [],
   "source": [
    "# draw image\n",
    "for i in range(size):\n",
    "  array_2d = sdf[:, :, i]\n",
    "\n",
    "  num_levels = 6\n",
    "  fig, ax = plt.subplots(figsize=(2.75, 2.75), dpi=300)\n",
    "  levels_pos = np.logspace(-2, 0, num=num_levels)  # logspace\n",
    "  levels_neg = -1. * levels_pos[::-1]\n",
    "  levels = np.concatenate((levels_neg, np.zeros((0)), levels_pos), axis=0)\n",
    "  colors = plt.get_cmap(\"Spectral\")(np.linspace(0., 1., num=num_levels*2+1))\n",
    "\n",
    "  sample = array_2d\n",
    "  # sample = np.flipud(array_2d)\n",
    "  CS = ax.contourf(sample, levels=levels, colors=colors)\n",
    "\n",
    "  ax.contour(sample, levels=levels, colors='k', linewidths=0.1)\n",
    "  ax.contour(sample, levels=[0], colors='k', linewidths=0.3)\n",
    "  ax.axis('off')\n",
    "\n",
    "  plt.savefig(os.path.join('./frames', '%03d.png' % i))"
   ]
  },
  {
   "cell_type": "code",
   "execution_count": null,
   "metadata": {},
   "outputs": [],
   "source": [
    "# draw image\n",
    "for i in range(64):\n",
    "  array_2d = sdf[-64:, -64:, -i]\n",
    "\n",
    "  num_levels = 6\n",
    "  fig, ax = plt.subplots(figsize=(2.75, 2.75), dpi=300)\n",
    "  levels_pos = np.logspace(-2, 0, num=num_levels)  # logspace\n",
    "  levels_neg = -1. * levels_pos[::-1]\n",
    "  levels = np.concatenate((levels_neg, np.zeros((0)), levels_pos), axis=0)\n",
    "  colors = plt.get_cmap(\"Spectral\")(np.linspace(0., 1., num=num_levels*2+1))\n",
    "\n",
    "  sample = array_2d\n",
    "  # sample = np.flipud(array_2d)\n",
    "  CS = ax.contourf(sample, levels=levels, colors=colors)\n",
    "\n",
    "  ax.contour(sample, levels=levels, colors='k', linewidths=0.1)\n",
    "  ax.contour(sample, levels=[0], colors='k', linewidths=0.3)\n",
    "  ax.axis('off')\n",
    "\n",
    "  plt.savefig(os.path.join('./frames', '%03d.png' % i))"
   ]
  },
  {
   "cell_type": "code",
   "execution_count": 21,
   "metadata": {},
   "outputs": [
    {
     "data": {
      "text/plain": [
       "numpy.ndarray"
      ]
     },
     "execution_count": 21,
     "metadata": {},
     "output_type": "execute_result"
    }
   ],
   "source": [
    "x=sdf[-64:,-64:,-64:]\n",
    "type(x)"
   ]
  }
 ],
 "metadata": {
  "kernelspec": {
   "display_name": "pytorch_cpu",
   "language": "python",
   "name": "python3"
  },
  "language_info": {
   "codemirror_mode": {
    "name": "ipython",
    "version": 3
   },
   "file_extension": ".py",
   "mimetype": "text/x-python",
   "name": "python",
   "nbconvert_exporter": "python",
   "pygments_lexer": "ipython3",
   "version": "3.10.4"
  },
  "orig_nbformat": 4
 },
 "nbformat": 4,
 "nbformat_minor": 2
}

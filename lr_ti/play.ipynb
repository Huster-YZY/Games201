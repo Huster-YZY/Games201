{
 "cells": [
  {
   "cell_type": "code",
   "execution_count": 8,
   "metadata": {},
   "outputs": [
    {
     "name": "stdout",
     "output_type": "stream",
     "text": [
      "[Taichi] Starting on arch=x64\n"
     ]
    }
   ],
   "source": [
    "import taichi as ti\n",
    "ti.init(arch=ti.cpu)"
   ]
  },
  {
   "cell_type": "code",
   "execution_count": 28,
   "metadata": {},
   "outputs": [],
   "source": [
    "n=128\n",
    "num_node=n*n\n",
    "@ti.func\n",
    "def m2v(x):\n",
    "    return x[0] * n + x[1]\n",
    "\n",
    "\n",
    "@ti.func\n",
    "def v2m(x: int):\n",
    "    return (int(x / num_node), int(x % num_node))"
   ]
  },
  {
   "cell_type": "code",
   "execution_count": 19,
   "metadata": {},
   "outputs": [],
   "source": [
    "spring_offsets = []\n",
    "for i in range(-2, 3):\n",
    "    for j in range(-2, 3):\n",
    "        if (i, j) != (0, 0) and abs(i) + abs(j) <= 2:\n",
    "            spring_offsets.append(ti.Vector([i, j]))"
   ]
  },
  {
   "cell_type": "code",
   "execution_count": 17,
   "metadata": {},
   "outputs": [],
   "source": [
    "a=[1,2,3]\n",
    "@ti.kernel\n",
    "def test():\n",
    "    for i in ti.static(a):\n",
    "        print(i)"
   ]
  },
  {
   "cell_type": "code",
   "execution_count": 21,
   "metadata": {},
   "outputs": [],
   "source": [
    "x = ti.Vector.field(3, dtype=float, shape=(n, n))"
   ]
  },
  {
   "cell_type": "code",
   "execution_count": 24,
   "metadata": {},
   "outputs": [],
   "source": [
    "\n",
    "J = ti.Matrix.field(3, 3, dtype=ti.f32, shape=(num_node, num_node))\n",
    "@ti.kernel\n",
    "def update_Jacobi():\n",
    "    for i, d in J:\n",
    "        J[i, d] *= 0.0\n",
    "        idx_i = v2m(i)\n",
    "        for offset in ti.static(spring_offsets):\n",
    "            idx_j = idx_i + offset\n",
    "            j = m2v(idx_j)\n",
    "            if d == i or d == j:\n",
    "                x_ij = x[idx_i] - x[idx_j]\n",
    "                r = 1.0 * float(i - j).norm()"
   ]
  },
  {
   "cell_type": "code",
   "execution_count": 30,
   "metadata": {},
   "outputs": [],
   "source": [
    "update_Jacobi()"
   ]
  },
  {
   "cell_type": "code",
   "execution_count": 34,
   "metadata": {},
   "outputs": [
    {
     "data": {
      "text/plain": [
       "<ti.Expr>"
      ]
     },
     "execution_count": 34,
     "metadata": {},
     "output_type": "execute_result"
    },
    {
     "ename": "",
     "evalue": "",
     "output_type": "error",
     "traceback": [
      "\u001b[1;31mThe Kernel crashed while executing code in the the current cell or a previous cell. Please review the code in the cell(s) to identify a possible cause of the failure. Click <a href='https://aka.ms/vscodeJupyterKernelCrash'>here</a> for more info. View Jupyter <a href='command:jupyter.viewOutput'>log</a> for further details."
     ]
    }
   ],
   "source": [
    "a=ti.cast(12.3,ti.i32)"
   ]
  },
  {
   "cell_type": "code",
   "execution_count": 29,
   "metadata": {},
   "outputs": [
    {
     "name": "stdout",
     "output_type": "stream",
     "text": [
      "[0, 3]\n"
     ]
    }
   ],
   "source": [
    "@ti.kernel\n",
    "def test():\n",
    "    t=v2m(3)\n",
    "    print(t)\n",
    "test()"
   ]
  }
 ],
 "metadata": {
  "kernelspec": {
   "display_name": "pytorch_cpu",
   "language": "python",
   "name": "python3"
  },
  "language_info": {
   "codemirror_mode": {
    "name": "ipython",
    "version": 3
   },
   "file_extension": ".py",
   "mimetype": "text/x-python",
   "name": "python",
   "nbconvert_exporter": "python",
   "pygments_lexer": "ipython3",
   "version": "3.10.4"
  },
  "orig_nbformat": 4
 },
 "nbformat": 4,
 "nbformat_minor": 2
}
